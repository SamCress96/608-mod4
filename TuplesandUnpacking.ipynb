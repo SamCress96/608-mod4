{
 "cells": [
  {
   "cell_type": "markdown",
   "metadata": {},
   "source": [
    "Tuples and Unpacking Samantha Cress<br>\n",
    "Section 5.3 Tuples"
   ]
  },
  {
   "cell_type": "markdown",
   "metadata": {},
   "source": [
    "To create an empty tuple, use empty parentheses "
   ]
  },
  {
   "cell_type": "code",
   "execution_count": 1,
   "metadata": {},
   "outputs": [
    {
     "name": "stdout",
     "output_type": "stream",
     "text": [
      "student_tuple1: ()\n",
      "student_tuple1_len: 0\n"
     ]
    }
   ],
   "source": [
    "student_tuple1 = ()\n",
    "print ('student_tuple1:', student_tuple1)\n",
    "print ('student_tuple1_len:', len(student_tuple1))"
   ]
  },
  {
   "cell_type": "markdown",
   "metadata": {},
   "source": [
    "You can pack a tuple by separting its values with commas"
   ]
  },
  {
   "cell_type": "code",
   "execution_count": 2,
   "metadata": {},
   "outputs": [
    {
     "name": "stdout",
     "output_type": "stream",
     "text": [
      "student_tuple2: ('John', 'Green', 3.3)\n",
      "student_tuple2_len: 3\n"
     ]
    }
   ],
   "source": [
    "student_tuple2 = 'John', 'Green', 3.3\n",
    "print ('student_tuple2:', student_tuple2)\n",
    "print ('student_tuple2_len:', len(student_tuple2))"
   ]
  },
  {
   "cell_type": "markdown",
   "metadata": {},
   "source": [
    "When ouputing a tuple, python always displays its contents in a parentheses. You may surround a tuples<br>\n",
    "comma separated list of values with opitional parentheses. "
   ]
  },
  {
   "cell_type": "code",
   "execution_count": 3,
   "metadata": {},
   "outputs": [
    {
     "name": "stdout",
     "output_type": "stream",
     "text": [
      "another_student_tuple: ('Mary', 'Red', 3.3)\n"
     ]
    }
   ],
   "source": [
    "another_student_tuple = ('Mary', 'Red', 3.3)\n",
    "print ('another_student_tuple:', another_student_tuple)"
   ]
  },
  {
   "cell_type": "markdown",
   "metadata": {},
   "source": [
    "The following code creates a one-element tuple"
   ]
  },
  {
   "cell_type": "code",
   "execution_count": 4,
   "metadata": {},
   "outputs": [
    {
     "name": "stdout",
     "output_type": "stream",
     "text": [
      "a_singleton_tuple: ('red',)\n"
     ]
    }
   ],
   "source": [
    "a_singleton_tuple = ('red',) # note the comma, it indentifies the singleton tuple as a tuple\n",
    "print ('a_singleton_tuple:', a_singleton_tuple)"
   ]
  },
  {
   "cell_type": "markdown",
   "metadata": {},
   "source": [
    "Accessing Tuple elements "
   ]
  },
  {
   "cell_type": "code",
   "execution_count": 5,
   "metadata": {},
   "outputs": [
    {
     "name": "stdout",
     "output_type": "stream",
     "text": [
      "time_tuple: (9, 16, 1)\n",
      "Seconds since midnight: 33361\n"
     ]
    }
   ],
   "source": [
    "time_tuple = (9, 16, 1)\n",
    "print ('time_tuple:', time_tuple)\n",
    "print ('Seconds since midnight:', time_tuple[0] * 3600 + time_tuple[1] * 60 + time_tuple[2])"
   ]
  },
  {
   "cell_type": "markdown",
   "metadata": {},
   "source": [
    "Adding items to a string or tuple. As with lists, the += augmented assignment statement can be used with strings and tuples, even though theyâ€™re immutable."
   ]
  },
  {
   "cell_type": "code",
   "execution_count": 6,
   "metadata": {},
   "outputs": [
    {
     "name": "stdout",
     "output_type": "stream",
     "text": [
      "tuple2: (10, 20, 30)\n",
      "tuple1: (10, 20, 30, 40, 50)\n",
      "tuple2: (10, 20, 30)\n"
     ]
    }
   ],
   "source": [
    "tuple1= (10, 20, 30)\n",
    "tuple2 = tuple1\n",
    "print ('tuple2:', tuple2)\n",
    "# Concatenating the tuple (40, 50) to tuple1 creates a new tuple, then assigns a reference to it to the variable tuple1â€”tuple2 still refers to the original tuple:\n",
    "tuple1 += (40, 50)\n",
    "print ('tuple1:', tuple1)\n",
    "print ('tuple2:', tuple2)"
   ]
  },
  {
   "cell_type": "markdown",
   "metadata": {},
   "source": [
    "Appending Tuples to lists, you can use += to append a tuple to a list "
   ]
  },
  {
   "cell_type": "code",
   "execution_count": 7,
   "metadata": {},
   "outputs": [
    {
     "name": "stdout",
     "output_type": "stream",
     "text": [
      "numbers: [1, 2, 3, 4, 5, 6, 7]\n"
     ]
    }
   ],
   "source": [
    "numbers = [1, 2, 3, 4, 5,]\n",
    "numbers += (6,7)\n",
    "print ('numbers:', numbers)"
   ]
  },
  {
   "cell_type": "markdown",
   "metadata": {},
   "source": [
    "Tuples may contain mutable objects, the following is a student_tuple with first name, last name, and list of grades"
   ]
  },
  {
   "cell_type": "code",
   "execution_count": 8,
   "metadata": {},
   "outputs": [
    {
     "name": "stdout",
     "output_type": "stream",
     "text": [
      "student_tuple: ('Amanda', 'Blue', [98, 75, 87])\n",
      "student_tuple: ('Amanda', 'Blue', [98, 85, 87])\n"
     ]
    }
   ],
   "source": [
    "student_tuple = ('Amanda', 'Blue', [98, 75, 87])\n",
    "print ('student_tuple:', student_tuple)\n",
    "# Even though the tuple is immutable, its list element (in this case grades) is mutable\n",
    "student_tuple[2][1] = 85\n",
    "print ('student_tuple:', student_tuple)\n",
    "# In the double-subscripted name student_tuple[2][1], Python views student_tuple[2] as the element of the tuple containing the list [98, 75, 87], \n",
    "# then uses [1] to access the list element containing 75. The assignment in snippet [24] replaces that grade with 85."
   ]
  },
  {
   "cell_type": "markdown",
   "metadata": {},
   "source": [
    "Self Check<br>\n",
    "Create a single-element tuple containing 123.45, then display it."
   ]
  },
  {
   "cell_type": "code",
   "execution_count": 9,
   "metadata": {},
   "outputs": [
    {
     "name": "stdout",
     "output_type": "stream",
     "text": [
      "singleton_tuple: (123.45,)\n"
     ]
    }
   ],
   "source": [
    "singleton_tuple = (123.45,)\n",
    "print ('singleton_tuple:', singleton_tuple)"
   ]
  },
  {
   "cell_type": "markdown",
   "metadata": {},
   "source": [
    "Show what happens when you attempt to concatenate sequences of different types<br>\n",
    "list = [1, 2, 3]<br>\n",
    "tuple = (4, 5, 6)<br>\n",
    "print ('new:', list + tuple)<br>\n",
    "python displays the following error: type error: can only concatenate list (not tuple) to list"
   ]
  },
  {
   "cell_type": "markdown",
   "metadata": {},
   "source": [
    "Section 5.4 Unpacking Sequences"
   ]
  },
  {
   "cell_type": "markdown",
   "metadata": {},
   "source": [
    "The previous chapter introduced tuple unpacking. You can unpack any sequenceâ€™s elements by assigning the sequence to a comma-separated list of variables.<br>\n",
    "A ValueError occurs if the number of variables to the left of the assignment symbol is not identical to the number of elements in the sequence on the right:"
   ]
  },
  {
   "cell_type": "code",
   "execution_count": 10,
   "metadata": {},
   "outputs": [
    {
     "name": "stdout",
     "output_type": "stream",
     "text": [
      "First name: Amanda\n",
      "Grades: [98, 85, 87]\n"
     ]
    }
   ],
   "source": [
    "student_tuple = ('Amanda', [98, 85, 87])\n",
    "first_name, grades = student_tuple\n",
    "print ('First name:', first_name)\n",
    "print ('Grades:', grades)"
   ]
  },
  {
   "cell_type": "markdown",
   "metadata": {},
   "source": [
    "The following code unpacks a string, a list and a sequence produced by range:"
   ]
  },
  {
   "cell_type": "code",
   "execution_count": 11,
   "metadata": {},
   "outputs": [
    {
     "name": "stdout",
     "output_type": "stream",
     "text": [
      "h i\n",
      "2 3 5\n",
      "10 20 30\n"
     ]
    }
   ],
   "source": [
    "first, second = 'hi'\n",
    "print (f'{first} {second}')\n",
    "number1, number2, number3 = [2, 3, 5]\n",
    "print (f'{number1} {number2} {number3}')\n",
    "number1, number2, number3 = range(10, 40, 10)\n",
    "print (f'{number1} {number2} {number3}') "
   ]
  },
  {
   "cell_type": "markdown",
   "metadata": {},
   "source": [
    "Swapping Values via packing and unpacking"
   ]
  },
  {
   "cell_type": "code",
   "execution_count": 12,
   "metadata": {},
   "outputs": [
    {
     "name": "stdout",
     "output_type": "stream",
     "text": [
      "number1 = 22; number2 = 99\n"
     ]
    }
   ],
   "source": [
    "number1 = 99\n",
    "number2 = 22\n",
    "number1, number2 = (number2, number1)\n",
    "print (f'number1 = {number1}; number2 = {number2}')"
   ]
  },
  {
   "cell_type": "markdown",
   "metadata": {},
   "source": [
    "Accessing Indices and Values Safely with Built-in function enumerate <br>\n",
    "The preferred mechanism for accessing an elementâ€™s index and value is the built-in function enumerate."
   ]
  },
  {
   "cell_type": "code",
   "execution_count": 13,
   "metadata": {},
   "outputs": [
    {
     "name": "stdout",
     "output_type": "stream",
     "text": [
      "color list: [(0, 'red'), (1, 'orange'), (2, 'yellow')]\n"
     ]
    }
   ],
   "source": [
    "colors = ['red', 'orange', 'yellow']\n",
    "print ('color list:', list(enumerate(colors))) "
   ]
  },
  {
   "cell_type": "markdown",
   "metadata": {},
   "source": [
    "Similarly the built-in function tuple creates a tuple from a sequence:"
   ]
  },
  {
   "cell_type": "code",
   "execution_count": 14,
   "metadata": {},
   "outputs": [
    {
     "name": "stdout",
     "output_type": "stream",
     "text": [
      "color tuple: ((0, 'red'), (1, 'orange'), (2, 'yellow'))\n"
     ]
    }
   ],
   "source": [
    "print ('color tuple:', tuple(enumerate(colors)))"
   ]
  },
  {
   "cell_type": "markdown",
   "metadata": {},
   "source": [
    "The following for loop unpacks each tuple returned by enumerate into the variables index and value and displays them:"
   ]
  },
  {
   "cell_type": "code",
   "execution_count": 15,
   "metadata": {},
   "outputs": [
    {
     "name": "stdout",
     "output_type": "stream",
     "text": [
      "0: red\n",
      "1: orange\n",
      "2: yellow\n"
     ]
    }
   ],
   "source": [
    "for index, value in enumerate(colors):\n",
    "    print (f'{index}: {value}')"
   ]
  },
  {
   "cell_type": "code",
   "execution_count": null,
   "metadata": {},
   "outputs": [],
   "source": []
  }
 ],
 "metadata": {
  "kernelspec": {
   "display_name": "Python 3 (ipykernel)",
   "language": "python",
   "name": "python3"
  },
  "language_info": {
   "codemirror_mode": {
    "name": "ipython",
    "version": 3
   },
   "file_extension": ".py",
   "mimetype": "text/x-python",
   "name": "python",
   "nbconvert_exporter": "python",
   "pygments_lexer": "ipython3",
   "version": "3.9.12"
  }
 },
 "nbformat": 4,
 "nbformat_minor": 2
}
