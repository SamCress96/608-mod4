{
 "cells": [
  {
   "cell_type": "code",
   "execution_count": 1,
   "id": "b1113208",
   "metadata": {},
   "outputs": [],
   "source": [
    "poem = open('C:/Users/SamCr/OneDrive/Documents/44-608/608-mod4/poem.txt', 'r')"
   ]
  },
  {
   "cell_type": "code",
   "execution_count": 2,
   "id": "f0762d43",
   "metadata": {},
   "outputs": [],
   "source": [
    "text = poem.read()"
   ]
  },
  {
   "cell_type": "code",
   "execution_count": 3,
   "id": "009e7ec1",
   "metadata": {},
   "outputs": [],
   "source": [
    "word_counts = {}"
   ]
  },
  {
   "cell_type": "code",
   "execution_count": 4,
   "id": "4b38efd6",
   "metadata": {},
   "outputs": [],
   "source": [
    "# count occurrences of each unique word\n",
    "for word in text.split():\n",
    "    if word in word_counts: \n",
    "        word_counts[word] += 1  # update existing key-value pair\n",
    "    else:\n",
    "        word_counts[word] = 1  # insert new key-value pair"
   ]
  },
  {
   "cell_type": "code",
   "execution_count": 5,
   "id": "e29d709c",
   "metadata": {},
   "outputs": [
    {
     "name": "stdout",
     "output_type": "stream",
     "text": [
      "WORD        COUNT\n",
      "(B.         1\n",
      "All         1\n",
      "And         2\n",
      "Asleep      1\n",
      "At          1\n",
      "Chased      1\n",
      "Curled      1\n",
      "For         1\n",
      "Hayes)      1\n",
      "Hissed      1\n",
      "Into        1\n",
      "Little      1\n",
      "Of          1\n",
      "Only        1\n",
      "Scamp       1\n",
      "So          1\n",
      "You're      1\n",
      "You've      1\n",
      "a           3\n",
      "all         1\n",
      "and         2\n",
      "ball        1\n",
      "beds.       1\n",
      "black       1\n",
      "bold        1\n",
      "brave       1\n",
      "comfort     1\n",
      "daily       1\n",
      "dog         1\n",
      "door,       1\n",
      "floor       1\n",
      "fluffy      1\n",
      "hall.       1\n",
      "in          1\n",
      "kitten      1\n",
      "million     1\n",
      "my          1\n",
      "next        1\n",
      "now         1\n",
      "old.        1\n",
      "over        1\n",
      "paper       1\n",
      "proved      1\n",
      "shreds      1\n",
      "six         1\n",
      "spat        1\n",
      "tested      1\n",
      "the         6\n",
      "tight       1\n",
      "tiny        1\n",
      "torn        1\n",
      "up          1\n",
      "weeks       1\n",
      "wool        1\n",
      "yourself    1\n"
     ]
    }
   ],
   "source": [
    "print(f'{\"WORD\":<12}COUNT')\n",
    "for word, count in sorted(word_counts.items()):\n",
    "    print(f'{word:<12}{count}')"
   ]
  },
  {
   "cell_type": "code",
   "execution_count": 6,
   "id": "61f7107f",
   "metadata": {},
   "outputs": [
    {
     "name": "stdout",
     "output_type": "stream",
     "text": [
      "\n",
      "Number of unique words: 55\n"
     ]
    }
   ],
   "source": [
    "print('\\nNumber of unique words:', len(word_counts))"
   ]
  },
  {
   "cell_type": "code",
   "execution_count": null,
   "id": "1e2a9c05",
   "metadata": {},
   "outputs": [],
   "source": [
    "Samantha Cress"
   ]
  }
 ],
 "metadata": {
  "kernelspec": {
   "display_name": "Python 3 (ipykernel)",
   "language": "python",
   "name": "python3"
  },
  "language_info": {
   "codemirror_mode": {
    "name": "ipython",
    "version": 3
   },
   "file_extension": ".py",
   "mimetype": "text/x-python",
   "name": "python",
   "nbconvert_exporter": "python",
   "pygments_lexer": "ipython3",
   "version": "3.9.12"
  }
 },
 "nbformat": 4,
 "nbformat_minor": 5
}
