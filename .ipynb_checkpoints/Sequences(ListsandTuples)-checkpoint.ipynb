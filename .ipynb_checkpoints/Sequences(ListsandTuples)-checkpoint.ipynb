{
 "cells": [
  {
   "cell_type": "markdown",
   "metadata": {},
   "source": [
    "Section 5.5 Sequence Slicing Samantha Cress"
   ]
  },
  {
   "cell_type": "markdown",
   "metadata": {},
   "source": [
    "You can slice sequences to create new sequences of the same type containing subsets of the original elements. <br>\n",
    "Specifying a slice with starting and ending indices"
   ]
  },
  {
   "cell_type": "code",
   "execution_count": 1,
   "metadata": {},
   "outputs": [
    {
     "name": "stdout",
     "output_type": "stream",
     "text": [
      "numbers[2:6]: [5, 7, 11, 13]\n"
     ]
    }
   ],
   "source": [
    "numbers = [2, 3, 5, 7, 11, 13, 17, 19]\n",
    "print ('numbers[2:6]:', numbers[2:6])\n",
    "# The slice copies elements from the starting index to the left of the colon (2) up to, \n",
    "# but not including, the ending index to the right of the colon (6). The original list is not modified."
   ]
  },
  {
   "cell_type": "markdown",
   "metadata": {},
   "source": [
    "Specifying a slice with only an ending index<br>\n",
    "If you omit the starting index, 0 is assumed. So, the slice numbers[:6] is equivalent to the slice numbers[0:6]:"
   ]
  },
  {
   "cell_type": "code",
   "execution_count": 2,
   "metadata": {},
   "outputs": [
    {
     "name": "stdout",
     "output_type": "stream",
     "text": [
      "numbers[:6]: [2, 3, 5, 7, 11, 13]\n",
      "numbers[0:6]: [2, 3, 5, 7, 11, 13]\n"
     ]
    }
   ],
   "source": [
    "print ('numbers[:6]:', numbers[:6])\n",
    "print ('numbers[0:6]:', numbers[0:6])"
   ]
  },
  {
   "cell_type": "markdown",
   "metadata": {},
   "source": [
    "Specifying a slice with only a starting index<br>\n",
    "If you omit the ending index, Python assumes the sequenceâ€™s length (8 here), <br>\n",
    "so snippet [5]â€™s slice contains the elements of numbers at indices 6 and 7:"
   ]
  },
  {
   "cell_type": "code",
   "execution_count": 3,
   "metadata": {},
   "outputs": [
    {
     "name": "stdout",
     "output_type": "stream",
     "text": [
      "numbers[6:]: [17, 19]\n",
      "numbers[6:len(numbers)]: [17, 19]\n"
     ]
    }
   ],
   "source": [
    "print ('numbers[6:]:', numbers[6:])\n",
    "print ('numbers[6:len(numbers)]:', numbers[6:len(numbers)])"
   ]
  },
  {
   "cell_type": "markdown",
   "metadata": {},
   "source": [
    "Specifying a slice with no indices"
   ]
  },
  {
   "cell_type": "code",
   "execution_count": 4,
   "metadata": {},
   "outputs": [
    {
     "name": "stdout",
     "output_type": "stream",
     "text": [
      "numbers[:]: [2, 3, 5, 7, 11, 13, 17, 19]\n"
     ]
    }
   ],
   "source": [
    "print ('numbers[:]:', numbers[:])\n",
    "#in the snippet above, the new listâ€™s elements refer to the same objects as the original listâ€™s elements, \n",
    "#rather than to separate copies"
   ]
  },
  {
   "cell_type": "markdown",
   "metadata": {},
   "source": [
    "Slicing with Steps<br>\n",
    "The following code uses a step of 2 to create a slice with every other element of numbers:"
   ]
  },
  {
   "cell_type": "code",
   "execution_count": 5,
   "metadata": {},
   "outputs": [
    {
     "name": "stdout",
     "output_type": "stream",
     "text": [
      "numbers[::2]: [2, 5, 11, 17]\n"
     ]
    }
   ],
   "source": [
    "print ('numbers[::2]:', numbers[::2]) #We omitted the start and end indices, so 0 and len(numbers) are assumed, respectively."
   ]
  },
  {
   "cell_type": "markdown",
   "metadata": {},
   "source": [
    "Slicing with negatice indices and steps<br>\n",
    "You can use a negative step to select slices in reverse order. The following code concisely creates a new list in reverse order:"
   ]
  },
  {
   "cell_type": "code",
   "execution_count": 6,
   "metadata": {},
   "outputs": [
    {
     "name": "stdout",
     "output_type": "stream",
     "text": [
      "numbers[::-1]: [19, 17, 13, 11, 7, 5, 3, 2]\n",
      "numbers[-1:-9:-1]: [19, 17, 13, 11, 7, 5, 3, 2]\n"
     ]
    }
   ],
   "source": [
    "print ('numbers[::-1]:', numbers[::-1])\n",
    "# The code above is equivalent to the following:\n",
    "numbers[-1:-9:-1]\n",
    "print ('numbers[-1:-9:-1]:', numbers[-1:-9:-1])"
   ]
  },
  {
   "cell_type": "markdown",
   "metadata": {},
   "source": [
    "Modifying lists via slices<br>\n",
    "You can modify a list by assigning to a slice of itâ€”the rest of the list is unchanged. <br>\n",
    "The following code replaces numbersâ€™ first three elements, leaving the rest unchanged:"
   ]
  },
  {
   "cell_type": "code",
   "execution_count": 7,
   "metadata": {},
   "outputs": [
    {
     "name": "stdout",
     "output_type": "stream",
     "text": [
      "numbers: ['two', 'three', 'five', 7, 11, 13, 17, 19]\n",
      "numbers: [7, 11, 13, 17, 19]\n",
      "numbers: [100, 3, 100, 7, 100, 13, 100, 19]\n",
      "ID: 2162920067712\n",
      "numbers: []\n",
      "ID: 2162920067712\n"
     ]
    }
   ],
   "source": [
    "numbers[0:3] = ['two', 'three', 'five']\n",
    "print ('numbers:', numbers)\n",
    "# The following deletes only the first three elements of numbers by assigning an empty list to the three-element slice:\n",
    "numbers[0:3] = []\n",
    "print ('numbers:', numbers)\n",
    "# The following assigns a listâ€™s elements to a slice of every other element of numbers:\n",
    "numbers = [2, 3, 5, 7, 11, 13, 17, 19]\n",
    "numbers[::2] = [100, 100, 100, 100]\n",
    "print ('numbers:', numbers)\n",
    "print ('ID:', id(numbers)) # this value changes each time the code is ran\n",
    "# The following deletes all elements in numbers leaving the list empty\n",
    "numbers [:] = []\n",
    "print ('numbers:', numbers)\n",
    "print ('ID:', id(numbers))\n",
    "# Deleting numbersâ€™ contents (snippet [19]) is different from assigning numbers a new empty list [] (snippet [22]). \n",
    "# To prove this, we display numbersâ€™ identity after each operation. The identities are different, so they represent separate objects in memory."
   ]
  },
  {
   "cell_type": "markdown",
   "metadata": {},
   "source": [
    "Section 5.5 Self Check<br>\n",
    "Create a list called numbers containing the values from 1 through 15, then use slices to perform the following operations consecutively:"
   ]
  },
  {
   "cell_type": "code",
   "execution_count": 8,
   "metadata": {},
   "outputs": [
    {
     "name": "stdout",
     "output_type": "stream",
     "text": [
      "numbers: [1, 2, 3, 4, 5, 6, 7, 8, 9, 10, 11, 12, 13, 14, 15]\n",
      "Even Integers: [2, 4, 6, 8, 10, 12, 14]\n",
      "numbers: [1, 2, 3, 4, 5, 0, 0, 0, 0, 0, 11, 12, 13, 14, 15]\n",
      "first five elements: [1, 2, 3, 4, 5]\n",
      "Empty: []\n"
     ]
    }
   ],
   "source": [
    "numbers = list(range(1, 16))\n",
    "print ('numbers:', numbers)\n",
    "# Select numbers even integers\n",
    "print ('Even Integers:', numbers[1:len(numbers):2])\n",
    "# Replace the elements at indices 5 through 9 with 0s, then show the resulting list\n",
    "numbers[5:10] = [0] * len(numbers[5:10])\n",
    "print ('numbers:', numbers)\n",
    "# Keep only the first five elements, then show the resulting list.\n",
    "numbers[5:] = []\n",
    "print ('first five elements:', numbers)\n",
    "# Keep only the first five elements, then show the resulting list.\n",
    "numbers[:] = []\n",
    "print ('Empty:', numbers)"
   ]
  },
  {
   "cell_type": "markdown",
   "metadata": {},
   "source": [
    "Section 5.6 del Statement "
   ]
  },
  {
   "cell_type": "markdown",
   "metadata": {},
   "source": [
    "Deleting the element at a specific list index"
   ]
  },
  {
   "cell_type": "code",
   "execution_count": 9,
   "metadata": {},
   "outputs": [
    {
     "name": "stdout",
     "output_type": "stream",
     "text": [
      "[0, 1, 2, 3, 4, 5, 6, 7, 8, 9]\n",
      "del number[-1]: [0, 1, 2, 3, 4, 5, 6, 7, 8]\n"
     ]
    }
   ],
   "source": [
    "numbers = list(range(0, 10))\n",
    "print (numbers)\n",
    "del numbers[-1]\n",
    "print ('del number[-1]:', numbers)"
   ]
  },
  {
   "cell_type": "markdown",
   "metadata": {},
   "source": [
    "Deleting a Slice from a list <br>\n",
    "The following deletes the list's first two elements "
   ]
  },
  {
   "cell_type": "code",
   "execution_count": 10,
   "metadata": {},
   "outputs": [
    {
     "name": "stdout",
     "output_type": "stream",
     "text": [
      "del numbers[0:2]: [2, 3, 4, 5, 6, 7, 8]\n",
      "Delete every other element: [3, 5, 7]\n"
     ]
    }
   ],
   "source": [
    "del numbers[0:2]\n",
    "print ('del numbers[0:2]:', numbers)\n",
    "# The following uses a step in the slice to delete every other element from the entire list:\n",
    "del numbers[::2]\n",
    "print ('Delete every other element:', numbers)"
   ]
  },
  {
   "cell_type": "markdown",
   "metadata": {},
   "source": [
    "Deleting a Slice Representing the entire list <br>\n",
    "The following code delets all of the lists elements "
   ]
  },
  {
   "cell_type": "code",
   "execution_count": 11,
   "metadata": {},
   "outputs": [
    {
     "name": "stdout",
     "output_type": "stream",
     "text": [
      "Delete all elements in list: []\n"
     ]
    }
   ],
   "source": [
    "del numbers[:]\n",
    "print ('Delete all elements in list:', numbers)"
   ]
  },
  {
   "cell_type": "markdown",
   "metadata": {},
   "source": [
    "Section 5.6 Self Check <br>\n",
    "Create a list called numbers containing the values from 1 through 15"
   ]
  },
  {
   "cell_type": "code",
   "execution_count": 12,
   "metadata": {},
   "outputs": [
    {
     "name": "stdout",
     "output_type": "stream",
     "text": [
      "[1, 2, 3, 4, 5, 6, 7, 8, 9, 10, 11, 12, 13, 14, 15]\n",
      "[5, 6, 7, 8, 9, 10, 11, 12, 13, 14, 15]\n",
      "[6, 8, 10, 12, 14]\n"
     ]
    }
   ],
   "source": [
    "numbers = list(range(1, 16))\n",
    "print (numbers)\n",
    "# Delete a slice containing the first four elements, then show the resulting list.\n",
    "del numbers[0:4]\n",
    "print (numbers)\n",
    "# Delete a slice containing the first four elements, then show the resulting list.\n",
    "del numbers[::2]\n",
    "print (numbers)"
   ]
  },
  {
   "cell_type": "markdown",
   "metadata": {},
   "source": [
    "5.7 Passing Lists to Functions"
   ]
  },
  {
   "cell_type": "markdown",
   "metadata": {},
   "source": [
    "Passing an entire list to a function<br>\n",
    "Consider the function modify_elements, which receives a reference to a list<br>\n",
    "and multiplies each of the listâ€™s element values by 2:"
   ]
  },
  {
   "cell_type": "code",
   "execution_count": 13,
   "metadata": {},
   "outputs": [
    {
     "name": "stdout",
     "output_type": "stream",
     "text": [
      "modify_elements(numbers): [20, 6, 14, 2, 18]\n"
     ]
    }
   ],
   "source": [
    "def modify_elements(items):\n",
    "    \"\"\"Multiplies all element values in items by 2.\"\"\"\n",
    "    for i in range(len(items)):\n",
    "        items[i] *= 2\n",
    "numbers = [10, 3, 7, 1, 9]\n",
    "modify_elements(numbers)\n",
    "print ('modify_elements(numbers):', numbers)"
   ]
  },
  {
   "cell_type": "markdown",
   "metadata": {},
   "source": [
    "Passing a Tuple to a function <br>\n",
    "When you pass a tuple to a function, attempting to modify the tupleâ€™s immutable elements results in a <br>\n",
    "TypeError: 'tuple' object does not support item assignment"
   ]
  },
  {
   "cell_type": "markdown",
   "metadata": {},
   "source": [
    "Section 5.8 Sorting Lists "
   ]
  },
  {
   "cell_type": "markdown",
   "metadata": {},
   "source": [
    "Sorting a list in ascending order<br>\n",
    "List method sort modifies a list to arrange its elements in ascending order:"
   ]
  },
  {
   "cell_type": "code",
   "execution_count": 14,
   "metadata": {},
   "outputs": [
    {
     "name": "stdout",
     "output_type": "stream",
     "text": [
      "Ascending order: [1, 2, 3, 4, 5, 6, 7, 8, 9, 10]\n"
     ]
    }
   ],
   "source": [
    "numbers = [10, 3, 7, 1, 9, 4, 2, 8, 5, 6]\n",
    "numbers.sort()\n",
    "print ('Ascending order:', numbers)"
   ]
  },
  {
   "cell_type": "markdown",
   "metadata": {},
   "source": [
    "Sorting a list in descending order<br>\n",
    "To sort a list in descending order, call list method sort<br>\n",
    "with the optional keyword argument reverse set to True (False is the default):"
   ]
  },
  {
   "cell_type": "code",
   "execution_count": 15,
   "metadata": {},
   "outputs": [
    {
     "name": "stdout",
     "output_type": "stream",
     "text": [
      "Descending order: [10, 9, 8, 7, 6, 5, 4, 3, 2, 1]\n"
     ]
    }
   ],
   "source": [
    "numbers = [10, 3, 7, 1, 9, 4, 2, 8, 5, 6]\n",
    "numbers.sort(reverse=True)\n",
    "print('Descending order:', numbers)"
   ]
  },
  {
   "cell_type": "markdown",
   "metadata": {},
   "source": [
    "Built-In Function sorted<br>\n",
    "Built-in function sorted returns a new list containing the sorted elements of its argument sequenceâ€”the original sequence is unmodified"
   ]
  },
  {
   "cell_type": "code",
   "execution_count": 16,
   "metadata": {},
   "outputs": [
    {
     "name": "stdout",
     "output_type": "stream",
     "text": [
      "ascending_numbers: [1, 2, 3, 4, 5, 6, 7, 8, 9, 10]\n",
      "[10, 3, 7, 1, 9, 4, 2, 8, 5, 6]\n",
      "ascending letters: ['a', 'b', 'c', 'd', 'e', 'f', 'g', 'h', 'i', 'j']\n",
      "Letters: fadgchjebi\n",
      "Ascending Colors: ['blue', 'green', 'orange', 'red', 'yellow']\n",
      "colors: ('red', 'orange', 'yellow', 'green', 'blue')\n"
     ]
    }
   ],
   "source": [
    "numbers = [10, 3, 7, 1, 9, 4, 2, 8, 5, 6]\n",
    "ascending_numbers = sorted(numbers)\n",
    "print ('ascending_numbers:', ascending_numbers)\n",
    "print (numbers)\n",
    "letters = 'fadgchjebi'\n",
    "ascending_letters = sorted(letters)\n",
    "print ('ascending letters:', ascending_letters)\n",
    "print ('Letters:', letters)\n",
    "colors = ('red', 'orange', 'yellow', 'green', 'blue')\n",
    "ascending_colors = sorted(colors)\n",
    "print ('Ascending Colors:', ascending_colors)\n",
    "print ('colors:', colors)\n",
    "# Use the optional keyword argument reverse with the value True to sort the elements in descending order."
   ]
  },
  {
   "cell_type": "markdown",
   "metadata": {},
   "source": [
    "Section 5.8 Self-Check<br>\n",
    "Create a foods list containing 'Cookies', 'pizza', 'Grapes', 'apples', 'steak' and 'Bacon'. Use list method sort to sort the list in ascending order."
   ]
  },
  {
   "cell_type": "code",
   "execution_count": 17,
   "metadata": {},
   "outputs": [
    {
     "name": "stdout",
     "output_type": "stream",
     "text": [
      "Foods: ['apples', 'bacon', 'cookies', 'grapes', 'pizza', 'steak']\n"
     ]
    }
   ],
   "source": [
    "foods = ['cookies', 'pizza', 'grapes', 'apples', 'steak', 'bacon']\n",
    "foods.sort()\n",
    "print ('Foods:', foods)\n",
    "# They are in order as defined by the underlying character setâ€”known as lexicographical order"
   ]
  },
  {
   "cell_type": "markdown",
   "metadata": {},
   "source": [
    "Section 5.9 Searching Sequences"
   ]
  },
  {
   "cell_type": "markdown",
   "metadata": {},
   "source": [
    "List method index<br>\n",
    "List method index takes as an argument a search keyâ€”the value to locate in the listâ€”then searches through the list <br>\n",
    "from index 0 and returns the index of the first element that matches the search key:"
   ]
  },
  {
   "cell_type": "code",
   "execution_count": 18,
   "metadata": {},
   "outputs": [
    {
     "name": "stdout",
     "output_type": "stream",
     "text": [
      "numbers.index(5): 6\n"
     ]
    }
   ],
   "source": [
    "numbers = [3, 7, 1, 4, 2, 8, 5, 6]\n",
    "print ('numbers.index(5):', numbers.index(5)) #A ValueError occurs if the value youâ€™re searching for is not in the list."
   ]
  },
  {
   "cell_type": "markdown",
   "metadata": {},
   "source": [
    "Specifying the starting index of a search <br>\n",
    "Using method indexâ€™s optional arguments, you can search a subset of a listâ€™s elements. You can use *= to multiply a sequence"
   ]
  },
  {
   "cell_type": "code",
   "execution_count": 19,
   "metadata": {},
   "outputs": [
    {
     "name": "stdout",
     "output_type": "stream",
     "text": [
      "numbers*2: [3, 7, 1, 4, 2, 8, 5, 6, 3, 7, 1, 4, 2, 8, 5, 6]\n",
      "numbers.index(5, 7): 14\n"
     ]
    }
   ],
   "source": [
    "numbers *= 2\n",
    "print ('numbers*2:', numbers)\n",
    "# The following code searches the updated list for the value 5 starting from index 7 and continuing through the end of the list:\n",
    "numbers.index(5, 7)\n",
    "print ('numbers.index(5, 7):', numbers.index(5, 7))"
   ]
  },
  {
   "cell_type": "markdown",
   "metadata": {},
   "source": [
    "Specifying the starting and ending indices of a search<br>\n",
    "Specifying the starting and ending indices causes index to search from the starting index up to but not including the ending index location. <br>\n",
    "The call to index in snippet [5]:"
   ]
  },
  {
   "cell_type": "code",
   "execution_count": 20,
   "metadata": {},
   "outputs": [
    {
     "name": "stdout",
     "output_type": "stream",
     "text": [
      "numbers.index(7, 0, 4): 1\n"
     ]
    }
   ],
   "source": [
    "numbers.index(5,7)\n",
    "# assumes the length of numbers as its optional third argument and is equivalent to:\n",
    "numbers.index(5, 7, len(numbers))\n",
    "# The following looks for the value 7 in the range of elements with indices 0 through 3:\n",
    "print ('numbers.index(7, 0, 4):', numbers.index(7, 0, 4))"
   ]
  },
  {
   "cell_type": "markdown",
   "metadata": {},
   "source": [
    "Operators in and not in <br>\n",
    "Operator in tests whether its right operandâ€™s iterable contains the left operandâ€™s value:"
   ]
  },
  {
   "cell_type": "code",
   "execution_count": 21,
   "metadata": {},
   "outputs": [
    {
     "name": "stdout",
     "output_type": "stream",
     "text": [
      "False\n",
      "True\n",
      "True\n",
      "False\n"
     ]
    }
   ],
   "source": [
    "print (1000 in numbers)\n",
    "print (5 in numbers)\n",
    "# Similarly, operator not in tests whether its right operandâ€™s iterable does not contain the left operandâ€™s value:\n",
    "print (1000 not in numbers)\n",
    "print (5 not in numbers)"
   ]
  },
  {
   "cell_type": "markdown",
   "metadata": {},
   "source": [
    "Using Operator in to Prevent a ValueError"
   ]
  },
  {
   "cell_type": "code",
   "execution_count": 22,
   "metadata": {},
   "outputs": [
    {
     "name": "stdout",
     "output_type": "stream",
     "text": [
      "1000 not found\n"
     ]
    }
   ],
   "source": [
    "key = 1000\n",
    "if key in numbers:\n",
    "    print(f'found{key} at index {numbers.index(search_key)}')\n",
    "else:\n",
    "    print (f'{key} not found')"
   ]
  },
  {
   "cell_type": "markdown",
   "metadata": {},
   "source": [
    "Built-In Functions any and all<br>\n",
    "The built-in function any returns True if any item in its iterable argument is True.<br>\n",
    "The built-in function all returns True if all items in its iterable argument are True."
   ]
  },
  {
   "cell_type": "markdown",
   "metadata": {},
   "source": [
    "Section 5.9 Self Check<br>\n",
    "Create a five-element list containing 67, 12, 46, 43 and 13, then use list method index to search for a 43 and 44. <br>\n",
    "Ensure that no ValueError occurs when searching for 44."
   ]
  },
  {
   "cell_type": "code",
   "execution_count": 23,
   "metadata": {},
   "outputs": [
    {
     "name": "stdout",
     "output_type": "stream",
     "text": [
      "44 not found\n",
      "43 placement: 3\n"
     ]
    }
   ],
   "source": [
    "numbers2 = [67, 12, 46, 43, 13]\n",
    "key = 44\n",
    "if key in numbers2:\n",
    "    print(f'found{key} at index {numbers2.index(search_key)}')\n",
    "else:\n",
    "    print (f'{key} not found')\n",
    "numbers2.index(43)\n",
    "print ('43 placement:', numbers2.index(43))"
   ]
  },
  {
   "cell_type": "markdown",
   "metadata": {},
   "source": [
    "Section 5.10 Other List Methods "
   ]
  },
  {
   "cell_type": "markdown",
   "metadata": {},
   "source": [
    "Inserting an Element at a Specific List Index"
   ]
  },
  {
   "cell_type": "code",
   "execution_count": 24,
   "metadata": {},
   "outputs": [
    {
     "name": "stdout",
     "output_type": "stream",
     "text": [
      "color_names_insert: ['red', 'orange', 'yellow', 'green']\n"
     ]
    }
   ],
   "source": [
    "color_names = ['orange', 'yellow', 'green']\n",
    "color_names.insert(0, 'red')\n",
    "print ('color_names_insert:', color_names)"
   ]
  },
  {
   "cell_type": "markdown",
   "metadata": {},
   "source": [
    "Adding an element to the end of a list"
   ]
  },
  {
   "cell_type": "code",
   "execution_count": 25,
   "metadata": {},
   "outputs": [
    {
     "name": "stdout",
     "output_type": "stream",
     "text": [
      "color names append: ['red', 'orange', 'yellow', 'green', 'blue']\n"
     ]
    }
   ],
   "source": [
    "color_names.append('blue')\n",
    "print ('color names append:', color_names)"
   ]
  },
  {
   "cell_type": "markdown",
   "metadata": {},
   "source": [
    "Adding All the Elements of a Sequence to the End of a List"
   ]
  },
  {
   "cell_type": "code",
   "execution_count": 26,
   "metadata": {},
   "outputs": [
    {
     "name": "stdout",
     "output_type": "stream",
     "text": [
      "color names extend: ['red', 'orange', 'yellow', 'green', 'blue', 'indingo', 'violet']\n",
      "sample list: ['a', 'b', 'c']\n",
      "sample list extend: ['a', 'b', 'c', 1, 2, 3]\n",
      "sample list direct extend: ['a', 'b', 'c', 1, 2, 3, 4, 5, 6]\n"
     ]
    }
   ],
   "source": [
    "color_names.extend(['indingo', 'violet'])\n",
    "print ('color names extend:', color_names)\n",
    "# This is the equivalent of using +=. The following code adds all the characters of a string then all the elements of a tuple to a list:\n",
    "sample_list = []\n",
    "s = 'abc'\n",
    "sample_list.extend(s)\n",
    "print ('sample list:', sample_list)\n",
    "t = (1, 2, 3)\n",
    "sample_list.extend(t)\n",
    "print ('sample list extend:', sample_list)\n",
    "# Rather than creating a temporary variable, like t, to store a tuple before appending it to a list\n",
    "# you might want to pass a tuple directly to extend. \n",
    "sample_list.extend((4, 5, 6)) #note the extra parentheses, a type error occurs if you omit the parentheses\n",
    "print ('sample list direct extend:', sample_list)"
   ]
  },
  {
   "cell_type": "markdown",
   "metadata": {},
   "source": [
    "Removing the First Occurrence of an Element in a List<br>\n",
    "Method remove deletes the first element with a specified valueâ€”<br>\n",
    "a ValueError occurs if removeâ€™s argument is not in the list:"
   ]
  },
  {
   "cell_type": "code",
   "execution_count": 27,
   "metadata": {},
   "outputs": [
    {
     "name": "stdout",
     "output_type": "stream",
     "text": [
      "color names remove: ['red', 'orange', 'yellow', 'blue', 'indingo', 'violet']\n"
     ]
    }
   ],
   "source": [
    "color_names.remove ('green')\n",
    "print ('color names remove:', color_names)"
   ]
  },
  {
   "cell_type": "markdown",
   "metadata": {},
   "source": [
    "Emptying a list, to delete all the elements in a list, call method clear"
   ]
  },
  {
   "cell_type": "code",
   "execution_count": 28,
   "metadata": {},
   "outputs": [
    {
     "name": "stdout",
     "output_type": "stream",
     "text": [
      "color names clear: []\n"
     ]
    }
   ],
   "source": [
    "color_names.clear()\n",
    "print('color names clear:', color_names) #This is the equivalent of the slice assignment "
   ]
  },
  {
   "cell_type": "markdown",
   "metadata": {},
   "source": [
    "Counting the Number of Occurrences of an Item<br>\n",
    "List method count searches for its argument and returns the number of times it is found:"
   ]
  },
  {
   "cell_type": "code",
   "execution_count": 29,
   "metadata": {},
   "outputs": [
    {
     "name": "stdout",
     "output_type": "stream",
     "text": [
      "1 appears 3 times in responses\n",
      "2 appears 5 times in responses\n",
      "3 appears 8 times in responses\n",
      "4 appears 2 times in responses\n",
      "5 appears 2 times in responses\n"
     ]
    }
   ],
   "source": [
    "responses = [1, 2, 5, 4, 3, 5, 2, 1, 3, 3, 1, 4, 3, 3, 3, 2, 3, 3, 2, 2]\n",
    "for i in range(1, 6):\n",
    "    print (f'{i} appears {responses.count (i)} times in responses')"
   ]
  },
  {
   "cell_type": "markdown",
   "metadata": {},
   "source": [
    "Reversing a list's elements, list method reverse reverses the contents of a list in place"
   ]
  },
  {
   "cell_type": "code",
   "execution_count": 30,
   "metadata": {},
   "outputs": [
    {
     "name": "stdout",
     "output_type": "stream",
     "text": [
      "color names reverse: ['blue', 'green', 'yellow', 'orange', 'red']\n"
     ]
    }
   ],
   "source": [
    "color_names = ['red', 'orange', 'yellow', 'green', 'blue']\n",
    "color_names.reverse()\n",
    "print ('color names reverse:', color_names)"
   ]
  },
  {
   "cell_type": "markdown",
   "metadata": {},
   "source": [
    "Copying a list, List method copy returns a new list containing a shallow copy of the original list:"
   ]
  },
  {
   "cell_type": "code",
   "execution_count": 31,
   "metadata": {},
   "outputs": [
    {
     "name": "stdout",
     "output_type": "stream",
     "text": [
      "copied list: ['blue', 'green', 'yellow', 'orange', 'red']\n"
     ]
    }
   ],
   "source": [
    "copied_list = color_names.copy()\n",
    "print ('copied list:', copied_list) #This is equivalent to the previously demonstrated slice operation"
   ]
  },
  {
   "cell_type": "markdown",
   "metadata": {},
   "source": [
    "Section 5.10 Self-Check"
   ]
  },
  {
   "cell_type": "code",
   "execution_count": 32,
   "metadata": {},
   "outputs": [
    {
     "name": "stdout",
     "output_type": "stream",
     "text": [
      "voilet index: 2\n",
      "rainbow insert: ['green', 'orange', 'red', 'voilet']\n",
      "rainbow append: ['green', 'orange', 'red', 'voilet', 'yellow']\n",
      "rainbow reverse: ['yellow', 'voilet', 'red', 'orange', 'green']\n",
      "rainbow remove: ['yellow', 'voilet', 'red', 'green']\n"
     ]
    }
   ],
   "source": [
    "rainbow = ['green', 'orange', 'voilet']\n",
    "print ('voilet index:', rainbow.index('voilet'))\n",
    "rainbow.insert(2, 'red')\n",
    "print ('rainbow insert:', rainbow)\n",
    "rainbow.append('yellow')\n",
    "print ('rainbow append:', rainbow)\n",
    "rainbow.reverse()\n",
    "print ('rainbow reverse:', rainbow)\n",
    "rainbow.remove('orange')\n",
    "print ('rainbow remove:', rainbow)"
   ]
  },
  {
   "cell_type": "markdown",
   "metadata": {},
   "source": [
    "Section 5.11 Simulating Stacks with Lists "
   ]
  },
  {
   "cell_type": "markdown",
   "metadata": {},
   "source": [
    "Python does not have a built-in stack type, but you can think of a stack as a constrained list<br>\n",
    "You push using list method append, which adds a new element to the end of the list<br>\n",
    "You pop using list method pop with no arguments, which removes and returns the item at the end of the list."
   ]
  },
  {
   "cell_type": "code",
   "execution_count": 33,
   "metadata": {},
   "outputs": [
    {
     "name": "stdout",
     "output_type": "stream",
     "text": [
      "stack: ['red']\n",
      "stack: ['red', 'green']\n",
      "stack pop green: green\n",
      "stack pop red: ['red']\n",
      "stack pop empty: []\n"
     ]
    }
   ],
   "source": [
    "stack = []\n",
    "stack.append('red')\n",
    "print ('stack:', stack)\n",
    "stack.append('green')\n",
    "print ('stack:', stack)\n",
    "print ('stack pop green:', stack.pop())\n",
    "print ('stack pop red:', stack)\n",
    "stack.pop()\n",
    "print ('stack pop empty:', stack)\n",
    "# Popping from an empty stack causes an IndexError, To prevent an IndexError, ensure that len(stack) is greater than 0 before calling pop."
   ]
  },
  {
   "cell_type": "markdown",
   "metadata": {},
   "source": [
    "Section 5.12 List Comphrehensions"
   ]
  },
  {
   "cell_type": "markdown",
   "metadata": {},
   "source": [
    "list comprehensions are an concise and convenient notation for creating new lists"
   ]
  },
  {
   "cell_type": "code",
   "execution_count": 34,
   "metadata": {},
   "outputs": [
    {
     "name": "stdout",
     "output_type": "stream",
     "text": [
      "list1: [1, 2, 3, 4, 5]\n"
     ]
    }
   ],
   "source": [
    "list1 = []\n",
    "for item in range(1, 6):\n",
    "    list1.append(item)\n",
    "print ('list1:', list1)"
   ]
  },
  {
   "cell_type": "markdown",
   "metadata": {},
   "source": [
    "Using a List Comprehension to Create a List of Integers"
   ]
  },
  {
   "cell_type": "code",
   "execution_count": 35,
   "metadata": {},
   "outputs": [
    {
     "name": "stdout",
     "output_type": "stream",
     "text": [
      "list2: [1, 2, 3, 4, 5]\n"
     ]
    }
   ],
   "source": [
    "list2 = [item for item in range(1, 6)]\n",
    "print ('list2:', list2)\n",
    "# for clause iterates over the sequence produced by range(1, 6). For each item, the list comprehension evaluates the expression to the left of the for clause \n",
    "# and places the expressionâ€™s value (in this case, the item itself) in the new list.\n",
    "# This particular comprehension could have been expressed more concisely using the function list."
   ]
  },
  {
   "cell_type": "markdown",
   "metadata": {},
   "source": [
    "Mapping: Performing Operations in a List Comprehensionâ€™s Expression<br>\n",
    "Mapping is a common functional-style programming operation that produces <br>\n",
    "a result with the same number of elements as the original data being mapped. "
   ]
  },
  {
   "cell_type": "code",
   "execution_count": 36,
   "metadata": {},
   "outputs": [
    {
     "name": "stdout",
     "output_type": "stream",
     "text": [
      "list3: [1, 8, 27, 64, 125]\n"
     ]
    }
   ],
   "source": [
    "list3 = [item ** 3 for item in range(1, 6)]\n",
    "print ('list3:', list3)"
   ]
  },
  {
   "cell_type": "markdown",
   "metadata": {},
   "source": [
    "Filtering: List Comprehensions with if Clauses<br>\n",
    "filtering elements to select only those that match a condition. <br>\n",
    "This typically produces a list with fewer elements than the data being filtered."
   ]
  },
  {
   "cell_type": "code",
   "execution_count": 37,
   "metadata": {},
   "outputs": [
    {
     "name": "stdout",
     "output_type": "stream",
     "text": [
      "list4: [2, 4, 6, 8, 10]\n"
     ]
    }
   ],
   "source": [
    "list4 = [item for item in range(1, 11,) if item % 2 == 0] \n",
    "print ('list4:', list4)"
   ]
  },
  {
   "cell_type": "markdown",
   "metadata": {},
   "source": [
    "List Comprehension That Processes Another Listâ€™s Elements<br>\n",
    "The for clause can process any iterable. Letâ€™s create a list of lowercase strings and use a list comprehension to create a new list containing their uppercase versions:"
   ]
  },
  {
   "cell_type": "code",
   "execution_count": 38,
   "metadata": {},
   "outputs": [
    {
     "name": "stdout",
     "output_type": "stream",
     "text": [
      "colors: ['red', 'orange', 'yellow', 'green', 'blue']\n",
      "colors2: ['RED', 'ORANGE', 'YELLOW', 'GREEN', 'BLUE']\n"
     ]
    }
   ],
   "source": [
    "colors = ['red', 'orange', 'yellow', 'green', 'blue']\n",
    "colors2 = [item.upper () for item in colors]\n",
    "print ('colors:', colors)\n",
    "print ('colors2:', colors2)"
   ]
  },
  {
   "cell_type": "markdown",
   "metadata": {},
   "source": [
    "Section 5.12 Self Check "
   ]
  },
  {
   "cell_type": "code",
   "execution_count": 39,
   "metadata": {},
   "outputs": [
    {
     "name": "stdout",
     "output_type": "stream",
     "text": [
      "list5: [(1, 1), (2, 8), (3, 27), (4, 64), (5, 125)]\n"
     ]
    }
   ],
   "source": [
    "list5 = [(x, x **3) for x in range(1, 6)]\n",
    "print ('list5:', list5)"
   ]
  },
  {
   "cell_type": "code",
   "execution_count": 40,
   "metadata": {},
   "outputs": [
    {
     "name": "stdout",
     "output_type": "stream",
     "text": [
      "list6: [3, 6, 9, 12, 15, 18, 21, 24, 27]\n"
     ]
    }
   ],
   "source": [
    "list6 = [x for x in range(3, 30, 3)]\n",
    "print ('list6:', list6)"
   ]
  },
  {
   "cell_type": "markdown",
   "metadata": {},
   "source": [
    "5.14 Filter, Map, and Reduce"
   ]
  },
  {
   "cell_type": "markdown",
   "metadata": {},
   "source": [
    "Filtering a Sequenceâ€™s Values with the Built-In filter Function<br>\n",
    "Using built-in function filter to obtain the odd values in numbers:"
   ]
  },
  {
   "cell_type": "code",
   "execution_count": 41,
   "metadata": {},
   "outputs": [
    {
     "name": "stdout",
     "output_type": "stream",
     "text": [
      "is odd filter: [3, 7, 1, 9, 5]\n",
      "is odd: [3, 7, 1, 9, 5]\n"
     ]
    }
   ],
   "source": [
    "numbers = [10, 3, 7, 1, 9, 4, 2, 8, 5, 6]\n",
    "def is_odd(x):\n",
    "    \"\"\"Returns True only if x is odd\"\"\"\n",
    "    return x % 2 != 0\n",
    "print ('is odd filter:', list(filter(is_odd, numbers)))\n",
    "print ('is odd:', [item for item in numbers if is_odd(item )])"
   ]
  },
  {
   "cell_type": "markdown",
   "metadata": {},
   "source": [
    "Using a lambda Rather than a Function"
   ]
  },
  {
   "cell_type": "code",
   "execution_count": 42,
   "metadata": {},
   "outputs": [
    {
     "name": "stdout",
     "output_type": "stream",
     "text": [
      "is odd lambda: [3, 7, 1, 9, 5]\n"
     ]
    }
   ],
   "source": [
    "print ('is odd lambda:', list(filter(lambda x: x % 2 != 0, numbers)))"
   ]
  },
  {
   "cell_type": "markdown",
   "metadata": {},
   "source": [
    "Mapping a Sequenceâ€™s Values to New Values<br>\n",
    "Using built-in function map with a lambda to square each value in numbers:"
   ]
  },
  {
   "cell_type": "code",
   "execution_count": 43,
   "metadata": {},
   "outputs": [
    {
     "name": "stdout",
     "output_type": "stream",
     "text": [
      "numbers squared: [100, 9, 49, 1, 81, 16, 4, 64, 25, 36]\n"
     ]
    }
   ],
   "source": [
    "print ('numbers squared:', list(map(lambda x: x ** 2, numbers)))"
   ]
  },
  {
   "cell_type": "markdown",
   "metadata": {},
   "source": [
    "Combining filter and map<br>\n",
    "You can combine the preceding filter and map operations as follows"
   ]
  },
  {
   "cell_type": "code",
   "execution_count": 44,
   "metadata": {},
   "outputs": [
    {
     "name": "stdout",
     "output_type": "stream",
     "text": [
      "odd numbers squared: [9, 49, 1, 81, 25]\n"
     ]
    }
   ],
   "source": [
    "print ('odd numbers squared:', list(map(lambda x: x **2 , filter(lambda x: x % 2 != 0, numbers))))"
   ]
  },
  {
   "cell_type": "markdown",
   "metadata": {},
   "source": [
    "Section 5.14 Self Check"
   ]
  },
  {
   "cell_type": "code",
   "execution_count": 45,
   "metadata": {},
   "outputs": [
    {
     "name": "stdout",
     "output_type": "stream",
     "text": [
      "numbers: [1, 2, 3, 4, 5, 6, 7, 8, 9, 10, 11, 12, 13, 14, 15]\n",
      "even numbers: [2, 4, 6, 8, 10, 12, 14]\n",
      "numbers squared: [1, 4, 9, 16, 25, 36, 49, 64, 81, 100, 121, 144, 169, 196, 225]\n",
      "even numbers squared: [4, 16, 36, 64, 100, 144, 196]\n"
     ]
    }
   ],
   "source": [
    "numbers = list(range(1, 16))\n",
    "print ('numbers:', numbers)\n",
    "print ('even numbers:', list(filter(lambda x: x % 2 == 0, numbers)))\n",
    "print ('numbers squared:', list(map(lambda x: x ** 2, numbers)))\n",
    "print ('even numbers squared:', list(map(lambda x: x**2, filter(lambda x: x % 2 == 0, numbers))))"
   ]
  },
  {
   "cell_type": "code",
   "execution_count": 46,
   "metadata": {},
   "outputs": [
    {
     "name": "stdout",
     "output_type": "stream",
     "text": [
      "temperatures: [(41, 5.0), (32, 0.0), (212, 100.0)]\n"
     ]
    }
   ],
   "source": [
    "fahrenheit = [41, 32, 212]\n",
    "print ('temperatures:', list(map(lambda x: (x, (x - 32) * 5 / 9), fahrenheit)))"
   ]
  },
  {
   "cell_type": "markdown",
   "metadata": {},
   "source": [
    "Section 5.16 Two Dimemsional Lists<br>\n",
    "Creating a two-dimensional list "
   ]
  },
  {
   "cell_type": "code",
   "execution_count": 47,
   "metadata": {},
   "outputs": [
    {
     "name": "stdout",
     "output_type": "stream",
     "text": [
      "77 68 86 73 \n",
      "96 87 89 81 \n",
      "70 90 86 81 \n"
     ]
    }
   ],
   "source": [
    "a = [[77, 68, 86, 73], [96, 87, 89, 81], [70, 90, 86, 81]]\n",
    "a = [[77, 68, 86, 73], # first student's grades\n",
    "     [96, 87, 89, 81], # second student's grades\n",
    "     [70, 90, 86, 81]] # third student's grades\n",
    "for row in a:\n",
    "    for item in row:\n",
    "        print(item, end = ' ')\n",
    "    print ()"
   ]
  },
  {
   "cell_type": "markdown",
   "metadata": {},
   "source": [
    "How the Nested Loops Execute<br>\n",
    "modify the nested loop to display the listâ€™s name and the row and column indices and value of each element:"
   ]
  },
  {
   "cell_type": "code",
   "execution_count": 48,
   "metadata": {},
   "outputs": [
    {
     "name": "stdout",
     "output_type": "stream",
     "text": [
      "a[0] [0]=77  a[0] [1]=68  a[0] [2]=86  a[0] [3]=73  \n",
      "a[1] [0]=96  a[1] [1]=87  a[1] [2]=89  a[1] [3]=81  \n",
      "a[2] [0]=70  a[2] [1]=90  a[2] [2]=86  a[2] [3]=81  \n"
     ]
    }
   ],
   "source": [
    "for i, row in enumerate(a):\n",
    "    for j, item in enumerate(row):\n",
    "        print(f'a[{i}] [{j}]={item} ', end=' ')\n",
    "    print ()"
   ]
  },
  {
   "cell_type": "markdown",
   "metadata": {},
   "source": [
    "Section 5.16 Self Check"
   ]
  },
  {
   "cell_type": "code",
   "execution_count": 49,
   "metadata": {},
   "outputs": [
    {
     "name": "stdout",
     "output_type": "stream",
     "text": [
      "10.166666666666666\n",
      "10.166666666666666\n"
     ]
    }
   ],
   "source": [
    "t = [[10, 7, 3], [20, 4, 17]]\n",
    "# Determine and display the average of tâ€™s elements using nested for statements to iterate through the elements\n",
    "total = 0\n",
    "items = 0\n",
    "for row in t:\n",
    "    for item in row:\n",
    "        total += item\n",
    "        items += 1\n",
    "print (total/ items)\n",
    "# Write a for statement that determines and displays the average of tâ€™s elements using the reductions sum and len \n",
    "# to calculate the sum of each rowâ€™s elements and the number of elements in each row.\n",
    "total = 0\n",
    "items = 0 \n",
    "for row in t:\n",
    "    total += sum(row)\n",
    "    items += len(row)\n",
    "print(total/items)"
   ]
  }
 ],
 "metadata": {
  "kernelspec": {
   "display_name": "Python 3 (ipykernel)",
   "language": "python",
   "name": "python3"
  },
  "language_info": {
   "codemirror_mode": {
    "name": "ipython",
    "version": 3
   },
   "file_extension": ".py",
   "mimetype": "text/x-python",
   "name": "python",
   "nbconvert_exporter": "python",
   "pygments_lexer": "ipython3",
   "version": "3.9.12"
  }
 },
 "nbformat": 4,
 "nbformat_minor": 2
}
